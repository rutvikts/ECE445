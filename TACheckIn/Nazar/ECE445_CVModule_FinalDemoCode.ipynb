{
 "cells": [
  {
   "cell_type": "code",
   "execution_count": 2,
   "metadata": {},
   "outputs": [],
   "source": [
    "import cv2\n",
    "\n",
    "# full body detection model\n",
    "haarcascade_fullbody = cv2.CascadeClassifier(cv2.data.haarcascades + 'haarcascade_fullbody.xml')\n",
    "\n",
    "# function to detect largest body and draw box around it\n",
    "def opt_detect(frame):\n",
    "    gray = cv2.cvtColor(frame, cv2.COLOR_BGR2GRAY)\n",
    "    full_bodies = haarcascade_fullbody.detectMultiScale(gray, scaleFactor=1.1, minNeighbors=5, minSize=(30, 30))\n",
    "\n",
    "    max_area = 0\n",
    "    largest_body = None\n",
    "    \n",
    "    for (x, y, w, h) in full_bodies:\n",
    "        area = w * h\n",
    "        if area > max_area:\n",
    "            max_area = area\n",
    "            largest_body = (x, y, w, h)\n",
    "    \n",
    "    if largest_body is not None:\n",
    "        x, y, w, h = largest_body\n",
    "        cv2.rectangle(frame, (x, y), (x+w, y+h), (255, 0, 0), 4)\n",
    "        \n",
    "        # calculates offset from center\n",
    "        box_center_x = x + int(w / 2)\n",
    "        box_center_y = y + int(h / 2)\n",
    "        vid_x = frame.shape[1]\n",
    "        vid_y = frame.shape[0]\n",
    "        vid_center_x = int(vid_x / 2)\n",
    "        vid_center_y = int(vid_y / 2)\n",
    "        offset_x = vid_center_x - box_center_x\n",
    "        offset_y = vid_center_y - box_center_y\n",
    "        percentage_offset_x = (offset_x / vid_x) * 100\n",
    "        \n",
    "        text = \"{:.2f}%\".format(percentage_offset_x)\n",
    "        cv2.putText(frame, text, (10, 60), cv2.FONT_HERSHEY_SIMPLEX, 2, (255, 0, 0), 4, cv2.LINE_AA)\n",
    "    \n",
    "    return frame\n",
    "\n",
    "# capture video input from the webcam\n",
    "cap = cv2.VideoCapture(0)\n",
    "\n",
    "while True:\n",
    "    ret, frame = cap.read()\n",
    "    if not ret:\n",
    "        break\n",
    "    \n",
    "    frame = opt_detect(frame)\n",
    "    \n",
    "    # display the frame\n",
    "    cv2.imshow('Logitech Webcam Pro 9000', frame)\n",
    "    \n",
    "    # press 'q' to exit\n",
    "    if cv2.waitKey(1) & 0xFF == ord('q'):\n",
    "        break\n",
    "\n",
    "cap.release()\n",
    "cv2.destroyAllWindows()"
   ]
  },
  {
   "cell_type": "code",
   "execution_count": null,
   "metadata": {},
   "outputs": [],
   "source": []
  }
 ],
 "metadata": {
  "kernelspec": {
   "display_name": "Python 3 (ipykernel)",
   "language": "python",
   "name": "python3"
  },
  "language_info": {
   "codemirror_mode": {
    "name": "ipython",
    "version": 3
   },
   "file_extension": ".py",
   "mimetype": "text/x-python",
   "name": "python",
   "nbconvert_exporter": "python",
   "pygments_lexer": "ipython3",
   "version": "3.11.4"
  }
 },
 "nbformat": 4,
 "nbformat_minor": 2
}
