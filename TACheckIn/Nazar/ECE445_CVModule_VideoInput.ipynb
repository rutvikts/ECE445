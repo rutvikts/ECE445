{
 "cells": [
  {
   "cell_type": "code",
   "execution_count": 5,
   "metadata": {},
   "outputs": [
    {
     "name": "stdout",
     "output_type": "stream",
     "text": [
      "Error: Failed to capture frame.\n"
     ]
    }
   ],
   "source": [
    "import cv2\n",
    "from matplotlib import pyplot as plt\n",
    "from IPython.display import display, clear_output\n",
    "\n",
    "full_body_cascade = cv2.CascadeClassifier(cv2.data.haarcascades + 'haarcascade_fullbody.xml')\n",
    "vid = cv2.VideoCapture(0)\n",
    "\n",
    "try:\n",
    "    while True:\n",
    "        ret, frame = vid.read()\n",
    "\n",
    "        if not ret:\n",
    "            print(\"Error: Failed to capture frame.\")\n",
    "            break\n",
    "\n",
    "        gray = cv2.cvtColor(frame, cv2.COLOR_BGR2GRAY)\n",
    "\n",
    "        bodies = full_body_cascade.detectMultiScale(gray, scaleFactor=1.1, minNeighbors=5, minSize=(50, 50))\n",
    "\n",
    "        if len(bodies) == 0:\n",
    "            continue\n",
    "\n",
    "        for (x, y, w, h) in bodies:\n",
    "            cv2.rectangle(frame, (x, y), (x+w, y+h), (0, 255, 0), 5)\n",
    "            box_center_x = x + int(w / 2)\n",
    "            box_center_y = y + int(h / 2)\n",
    "\n",
    "        vid_x = frame.shape[1]\n",
    "        vid_y = frame.shape[0]\n",
    "        vid_center_x = int(vid_x / 2)\n",
    "        vid_center_y = int(vid_y / 2)\n",
    "        offset_x = vid_center_x - box_center_x\n",
    "        offset_y = vid_center_y - box_center_y\n",
    "        \n",
    "        percentage_offset_x = (offset_x / vid_x) * 100\n",
    "\n",
    "        print(\"Percentage offset from the center:\", percentage_offset_x, \"%\")\n",
    "\n",
    "        clear_output(wait=True)\n",
    "        plt.imshow(cv2.cvtColor(frame, cv2.COLOR_BGR2RGB))\n",
    "        plt.axis('off')\n",
    "        plt.show()\n",
    "\n",
    "except KeyboardInterrupt:\n",
    "    cap.release()\n",
    "    cv2.destroyAllWindows()\n"
   ]
  },
  {
   "cell_type": "code",
   "execution_count": null,
   "metadata": {},
   "outputs": [],
   "source": []
  }
 ],
 "metadata": {
  "kernelspec": {
   "display_name": "Python 3 (ipykernel)",
   "language": "python",
   "name": "python3"
  },
  "language_info": {
   "codemirror_mode": {
    "name": "ipython",
    "version": 3
   },
   "file_extension": ".py",
   "mimetype": "text/x-python",
   "name": "python",
   "nbconvert_exporter": "python",
   "pygments_lexer": "ipython3",
   "version": "3.11.4"
  }
 },
 "nbformat": 4,
 "nbformat_minor": 2
}
